{
 "cells": [
  {
   "cell_type": "markdown",
   "metadata": {
    "colab_type": "text",
    "id": "view-in-github"
   },
   "source": [
    "<a href=\"https://colab.research.google.com/github/ArmandDS/jobs_recommendations/blob/master/job_analysis_content_recommendation.ipynb\" target=\"_parent\"><img src=\"https://colab.research.google.com/assets/colab-badge.svg\" alt=\"Open In Colab\"/></a>"
   ]
  },
  {
   "cell_type": "code",
   "execution_count": 1,
   "metadata": {
    "ExecuteTime": {
     "end_time": "2019-11-03T17:02:33.000230Z",
     "start_time": "2019-11-03T17:02:31.522886Z"
    },
    "colab": {},
    "colab_type": "code",
    "id": "uSHYJlLei9e-",
    "scrolled": true
   },
   "outputs": [],
   "source": [
    "import pandas as pd\n",
    "import numpy as np\n",
    "pd.set_option('display.max_rows', 1000)\n",
    "pd.set_option('display.max_columns', 1000)\n",
    "pd.set_option('display.width', -1)\n",
    "import warnings\n",
    "warnings.filterwarnings('ignore')\n",
    "import datetime"
   ]
  },
  {
   "cell_type": "code",
   "execution_count": 2,
   "metadata": {
    "ExecuteTime": {
     "end_time": "2019-11-03T17:02:34.904402Z",
     "start_time": "2019-11-03T17:02:34.534053Z"
    }
   },
   "outputs": [],
   "source": [
    "import os\n",
    "import sys\n",
    "nb_dir = os.path.split(os.getcwd())[0]\n",
    "if nb_dir not in sys.path:\n",
    "    sys.path.append(nb_dir)\n",
    "import clean_text\n"
   ]
  },
  {
   "cell_type": "markdown",
   "metadata": {
    "colab_type": "text",
    "id": "JyC91KDx0SqW"
   },
   "source": [
    "## Load the data"
   ]
  },
  {
   "cell_type": "code",
   "execution_count": 7,
   "metadata": {
    "ExecuteTime": {
     "end_time": "2019-11-03T17:03:48.165688Z",
     "start_time": "2019-11-03T17:03:48.152918Z"
    }
   },
   "outputs": [],
   "source": [
    "class preprocess_data():\n",
    "    \n",
    "    def __init__(self, root_path, text_column_to_clean):\n",
    "        self.root_path = root_path\n",
    "        self.text_column_to_clean = text_column_to_clean\n",
    "        \n",
    "    \n",
    "    def load_data(self):\n",
    "        df = pd.read_csv(f\"{self.root_path}/data/Combined_Jobs_Final.csv\")\n",
    "        return df\n",
    "    \n",
    "    \n",
    "    def select_columns(self, df):\n",
    "        cols = ['Job.ID']+['Title']+['Position']+ ['Company']+['City']+['Employment.Type']+['Job.Description']\n",
    "        df =df[cols]\n",
    "        df.columns = ['Job.ID', 'Title', 'Position', 'Company','City', 'Empl_type','Job_Description']\n",
    "        return df\n",
    "    \n",
    "    \n",
    "    def clean_na_values(self, df):\n",
    "        df['Company'] = df['Company'].replace(['Genesis Health Systems'], 'Genesis Health System')\n",
    "        df.loc[df.Company == 'CHI Payment Systems', 'City'] = 'Illinois'\n",
    "        df.loc[df.Company == 'Academic Year In America', 'City'] = 'Stamford'\n",
    "        df.loc[df.Company == 'CBS Healthcare Services and Staffing ', 'City'] = 'Urbandale'\n",
    "        df.loc[df.Company == 'Driveline Retail', 'City'] = 'Coppell'\n",
    "        df.loc[df.Company == 'Educational Testing Services', 'City'] = 'New Jersey'\n",
    "        df.loc[df.Company == 'Genesis Health System', 'City'] = 'Davennport'\n",
    "        df.loc[df.Company == 'Home Instead Senior Care', 'City'] = 'Nebraska'\n",
    "        df.loc[df.Company == 'St. Francis Hospital', 'City'] = 'New York'\n",
    "        df.loc[df.Company == 'Volvo Group', 'City'] = 'Washington'\n",
    "        df.loc[df.Company == 'CBS Healthcare Services and Staffing', 'City'] = 'Urbandale'\n",
    "        \n",
    "        df['Empl_type']=df['Empl_type'].fillna('Full-Time/Part-Time')\n",
    "        \n",
    "        df = df.fillna(\" \")\n",
    "        return df\n",
    "    \n",
    "    \n",
    "    def combine_text(self, df):\n",
    "        df[self.text_column_to_clean] = df[\"Position\"].map(str) + \" \" + df[\"Company\"] +\" \"+ df[\"City\"]+ \" \"+df['Empl_type']+\" \"+df['Job_Description'] +\" \"+df['Title']\n",
    "        return df\n",
    "    \n",
    "    \n",
    "    def clean_data(self, df):\n",
    "        print('cleaning data')\n",
    "        df[self.text_column_to_clean] = df[self.text_column_to_clean].apply(clean_text.clean_txt)\n",
    "        return df\n",
    "\n",
    "    def save_df_to_csv(self, df):\n",
    "        df.to_csv(f'{self.root_path}/data/df_jobs.csv')"
   ]
  },
  {
   "cell_type": "code",
   "execution_count": 4,
   "metadata": {
    "ExecuteTime": {
     "end_time": "2019-11-03T17:03:05.886063Z",
     "start_time": "2019-11-03T17:03:05.883725Z"
    }
   },
   "outputs": [],
   "source": [
    "root_path = \"/Users/snelson/Dropbox/Pearl/job_matching_algorithm/jobs_recommendations-master\""
   ]
  },
  {
   "cell_type": "code",
   "execution_count": 8,
   "metadata": {
    "ExecuteTime": {
     "end_time": "2019-11-03T17:07:18.844463Z",
     "start_time": "2019-11-03T17:03:50.897836Z"
    }
   },
   "outputs": [
    {
     "name": "stdout",
     "output_type": "stream",
     "text": [
      "cleaning data\n"
     ]
    }
   ],
   "source": [
    "jobs = preprocess_data(root_path=root_path,\n",
    "                      text_column_to_clean='text')\n",
    "df_jobs = jobs.load_data()\n",
    "df_jobs = jobs.select_columns(df=df_jobs)\n",
    "df_jobs = jobs.clean_na_values(df=df_jobs)\n",
    "df_jobs = jobs.combine_text(df=df_jobs)\n",
    "df_jobs = jobs.clean_data(df=df_jobs)\n",
    "\n",
    "jobs.save_df_to_csv(df=df_jobs)"
   ]
  },
  {
   "cell_type": "code",
   "execution_count": 9,
   "metadata": {
    "ExecuteTime": {
     "end_time": "2019-11-03T17:07:30.870963Z",
     "start_time": "2019-11-03T17:07:30.820537Z"
    }
   },
   "outputs": [
    {
     "data": {
      "text/html": [
       "<div>\n",
       "<style scoped>\n",
       "    .dataframe tbody tr th:only-of-type {\n",
       "        vertical-align: middle;\n",
       "    }\n",
       "\n",
       "    .dataframe tbody tr th {\n",
       "        vertical-align: top;\n",
       "    }\n",
       "\n",
       "    .dataframe thead th {\n",
       "        text-align: right;\n",
       "    }\n",
       "</style>\n",
       "<table border=\"1\" class=\"dataframe\">\n",
       "  <thead>\n",
       "    <tr style=\"text-align: right;\">\n",
       "      <th></th>\n",
       "      <th>Job.ID</th>\n",
       "      <th>Title</th>\n",
       "      <th>Position</th>\n",
       "      <th>Company</th>\n",
       "      <th>City</th>\n",
       "      <th>Empl_type</th>\n",
       "      <th>Job_Description</th>\n",
       "      <th>text</th>\n",
       "    </tr>\n",
       "  </thead>\n",
       "  <tbody>\n",
       "    <tr>\n",
       "      <th>0</th>\n",
       "      <td>111</td>\n",
       "      <td>Server @ Tacolicious</td>\n",
       "      <td>Server</td>\n",
       "      <td>Tacolicious</td>\n",
       "      <td>Palo Alto</td>\n",
       "      <td>Part-Time</td>\n",
       "      <td>Tacolicious' first Palo Alto store just opened...</td>\n",
       "      <td>server tacolicious palo alto part time tacolic...</td>\n",
       "    </tr>\n",
       "    <tr>\n",
       "      <th>1</th>\n",
       "      <td>113</td>\n",
       "      <td>Kitchen Staff/Chef @ Claude Lane</td>\n",
       "      <td>Kitchen Staff/Chef</td>\n",
       "      <td>Claude Lane</td>\n",
       "      <td>San Francisco</td>\n",
       "      <td>Part-Time</td>\n",
       "      <td>\\r\\n\\r\\nNew French Brasserie in S.F. Financia...</td>\n",
       "      <td>kitchen staff chef claude lane san francisco p...</td>\n",
       "    </tr>\n",
       "    <tr>\n",
       "      <th>2</th>\n",
       "      <td>117</td>\n",
       "      <td>Bartender @ Machka Restaurants Corp.</td>\n",
       "      <td>Bartender</td>\n",
       "      <td>Machka Restaurants Corp.</td>\n",
       "      <td>San Francisco</td>\n",
       "      <td>Part-Time</td>\n",
       "      <td>We are a popular Mediterranean wine bar and re...</td>\n",
       "      <td>bartender machka restaurants corp san francisc...</td>\n",
       "    </tr>\n",
       "    <tr>\n",
       "      <th>3</th>\n",
       "      <td>121</td>\n",
       "      <td>Server @ Teriyaki House</td>\n",
       "      <td>Server</td>\n",
       "      <td>Teriyaki House</td>\n",
       "      <td>Brisbane</td>\n",
       "      <td>Part-Time</td>\n",
       "      <td>● Serve food/drinks to customers in a profess...</td>\n",
       "      <td>server teriyaki house brisbane part time serve...</td>\n",
       "    </tr>\n",
       "    <tr>\n",
       "      <th>4</th>\n",
       "      <td>127</td>\n",
       "      <td>Kitchen Staff/Chef @ Rosa Mexicano - Sunset</td>\n",
       "      <td>Kitchen Staff/Chef</td>\n",
       "      <td>Rosa Mexicano - Sunset</td>\n",
       "      <td>Los Angeles</td>\n",
       "      <td>Part-Time</td>\n",
       "      <td>Located at the heart of Hollywood, we are one ...</td>\n",
       "      <td>kitchen staff chef rosa mexicano sunset los an...</td>\n",
       "    </tr>\n",
       "    <tr>\n",
       "      <th>...</th>\n",
       "      <td>...</td>\n",
       "      <td>...</td>\n",
       "      <td>...</td>\n",
       "      <td>...</td>\n",
       "      <td>...</td>\n",
       "      <td>...</td>\n",
       "      <td>...</td>\n",
       "      <td>...</td>\n",
       "    </tr>\n",
       "    <tr>\n",
       "      <th>84085</th>\n",
       "      <td>82</td>\n",
       "      <td>Book Keeper @ National Japanese American Histo...</td>\n",
       "      <td>Book Keeper</td>\n",
       "      <td>National Japanese American Historical Society</td>\n",
       "      <td>San Francisco</td>\n",
       "      <td>Part-Time</td>\n",
       "      <td>NJAHS stands for National Japanese American Hi...</td>\n",
       "      <td>book keeper national japanese american histori...</td>\n",
       "    </tr>\n",
       "    <tr>\n",
       "      <th>84086</th>\n",
       "      <td>83</td>\n",
       "      <td>Kitchen Staff/Chef @ Emporio Rulli</td>\n",
       "      <td>Kitchen Staff/Chef</td>\n",
       "      <td>Emporio Rulli</td>\n",
       "      <td>Larkspur</td>\n",
       "      <td>Part-Time</td>\n",
       "      <td>Weekend Brunch Line Cook \\r\\n● Other shifts ma...</td>\n",
       "      <td>kitchen staff chef emporio rulli larkspur part...</td>\n",
       "    </tr>\n",
       "    <tr>\n",
       "      <th>84087</th>\n",
       "      <td>84</td>\n",
       "      <td>Driver @ Onigilly</td>\n",
       "      <td>Driver</td>\n",
       "      <td>Onigilly</td>\n",
       "      <td>San Francisco</td>\n",
       "      <td>Part-Time</td>\n",
       "      <td>ONIGILLY (Japanese rice ball wraps) seeks outg...</td>\n",
       "      <td>driver onigilly san francisco part time onigil...</td>\n",
       "    </tr>\n",
       "    <tr>\n",
       "      <th>84088</th>\n",
       "      <td>88</td>\n",
       "      <td>Line Cook @ Machka Restaurants Corp.</td>\n",
       "      <td>Line Cook</td>\n",
       "      <td>Machka Restaurants Corp.</td>\n",
       "      <td>San Francisco</td>\n",
       "      <td>Part-Time</td>\n",
       "      <td>We are a popular Mediterranean restaurant in F...</td>\n",
       "      <td>line cook machka restaurants corp san francisc...</td>\n",
       "    </tr>\n",
       "    <tr>\n",
       "      <th>84089</th>\n",
       "      <td>92</td>\n",
       "      <td>Cashier @ Kazoo Restaurant</td>\n",
       "      <td>Cashier</td>\n",
       "      <td>Kazoo Restaurant</td>\n",
       "      <td>San Jose</td>\n",
       "      <td>Part-Time</td>\n",
       "      <td>We are looking for a cashier! \\r\\n\\r\\n ● Take...</td>\n",
       "      <td>cashier kazoo restaurant san jose part time lo...</td>\n",
       "    </tr>\n",
       "  </tbody>\n",
       "</table>\n",
       "<p>84090 rows × 8 columns</p>\n",
       "</div>"
      ],
      "text/plain": [
       "       Job.ID  \\\n",
       "0         111   \n",
       "1         113   \n",
       "2         117   \n",
       "3         121   \n",
       "4         127   \n",
       "...       ...   \n",
       "84085      82   \n",
       "84086      83   \n",
       "84087      84   \n",
       "84088      88   \n",
       "84089      92   \n",
       "\n",
       "                                                   Title  \\\n",
       "0                                   Server @ Tacolicious   \n",
       "1                       Kitchen Staff/Chef @ Claude Lane   \n",
       "2                   Bartender @ Machka Restaurants Corp.   \n",
       "3                                Server @ Teriyaki House   \n",
       "4            Kitchen Staff/Chef @ Rosa Mexicano - Sunset   \n",
       "...                                                  ...   \n",
       "84085  Book Keeper @ National Japanese American Histo...   \n",
       "84086                 Kitchen Staff/Chef @ Emporio Rulli   \n",
       "84087                                  Driver @ Onigilly   \n",
       "84088               Line Cook @ Machka Restaurants Corp.   \n",
       "84089                         Cashier @ Kazoo Restaurant   \n",
       "\n",
       "                 Position  \\\n",
       "0                  Server   \n",
       "1      Kitchen Staff/Chef   \n",
       "2               Bartender   \n",
       "3                  Server   \n",
       "4      Kitchen Staff/Chef   \n",
       "...                   ...   \n",
       "84085         Book Keeper   \n",
       "84086  Kitchen Staff/Chef   \n",
       "84087              Driver   \n",
       "84088           Line Cook   \n",
       "84089             Cashier   \n",
       "\n",
       "                                             Company  \\\n",
       "0                                        Tacolicious   \n",
       "1                                        Claude Lane   \n",
       "2                           Machka Restaurants Corp.   \n",
       "3                                     Teriyaki House   \n",
       "4                             Rosa Mexicano - Sunset   \n",
       "...                                              ...   \n",
       "84085  National Japanese American Historical Society   \n",
       "84086                                  Emporio Rulli   \n",
       "84087                                       Onigilly   \n",
       "84088                       Machka Restaurants Corp.   \n",
       "84089                               Kazoo Restaurant   \n",
       "\n",
       "                City  \\\n",
       "0          Palo Alto   \n",
       "1      San Francisco   \n",
       "2      San Francisco   \n",
       "3           Brisbane   \n",
       "4        Los Angeles   \n",
       "...              ...   \n",
       "84085  San Francisco   \n",
       "84086       Larkspur   \n",
       "84087  San Francisco   \n",
       "84088  San Francisco   \n",
       "84089       San Jose   \n",
       "\n",
       "       Empl_type  \\\n",
       "0      Part-Time   \n",
       "1      Part-Time   \n",
       "2      Part-Time   \n",
       "3      Part-Time   \n",
       "4      Part-Time   \n",
       "...          ...   \n",
       "84085  Part-Time   \n",
       "84086  Part-Time   \n",
       "84087  Part-Time   \n",
       "84088  Part-Time   \n",
       "84089  Part-Time   \n",
       "\n",
       "                                         Job_Description  \\\n",
       "0      Tacolicious' first Palo Alto store just opened...   \n",
       "1       \\r\\n\\r\\nNew French Brasserie in S.F. Financia...   \n",
       "2      We are a popular Mediterranean wine bar and re...   \n",
       "3       ● Serve food/drinks to customers in a profess...   \n",
       "4      Located at the heart of Hollywood, we are one ...   \n",
       "...                                                  ...   \n",
       "84085  NJAHS stands for National Japanese American Hi...   \n",
       "84086  Weekend Brunch Line Cook \\r\\n● Other shifts ma...   \n",
       "84087  ONIGILLY (Japanese rice ball wraps) seeks outg...   \n",
       "84088  We are a popular Mediterranean restaurant in F...   \n",
       "84089   We are looking for a cashier! \\r\\n\\r\\n ● Take...   \n",
       "\n",
       "                                                    text  \n",
       "0      server tacolicious palo alto part time tacolic...  \n",
       "1      kitchen staff chef claude lane san francisco p...  \n",
       "2      bartender machka restaurants corp san francisc...  \n",
       "3      server teriyaki house brisbane part time serve...  \n",
       "4      kitchen staff chef rosa mexicano sunset los an...  \n",
       "...                                                  ...  \n",
       "84085  book keeper national japanese american histori...  \n",
       "84086  kitchen staff chef emporio rulli larkspur part...  \n",
       "84087  driver onigilly san francisco part time onigil...  \n",
       "84088  line cook machka restaurants corp san francisc...  \n",
       "84089  cashier kazoo restaurant san jose part time lo...  \n",
       "\n",
       "[84090 rows x 8 columns]"
      ]
     },
     "execution_count": 9,
     "metadata": {},
     "output_type": "execute_result"
    }
   ],
   "source": [
    "df_jobs"
   ]
  },
  {
   "cell_type": "code",
   "execution_count": null,
   "metadata": {},
   "outputs": [],
   "source": []
  }
 ],
 "metadata": {
  "accelerator": "GPU",
  "colab": {
   "collapsed_sections": [],
   "include_colab_link": true,
   "name": "job-analysis-content-recommendation.ipynb",
   "provenance": [],
   "version": "0.3.2"
  },
  "kernelspec": {
   "display_name": "Python 3",
   "language": "python",
   "name": "python3"
  },
  "language_info": {
   "codemirror_mode": {
    "name": "ipython",
    "version": 3
   },
   "file_extension": ".py",
   "mimetype": "text/x-python",
   "name": "python",
   "nbconvert_exporter": "python",
   "pygments_lexer": "ipython3",
   "version": "3.6.9"
  },
  "toc": {
   "base_numbering": 1,
   "nav_menu": {},
   "number_sections": true,
   "sideBar": true,
   "skip_h1_title": false,
   "title_cell": "Table of Contents",
   "title_sidebar": "Contents",
   "toc_cell": false,
   "toc_position": {
    "height": "calc(100% - 180px)",
    "left": "10px",
    "top": "150px",
    "width": "326px"
   },
   "toc_section_display": true,
   "toc_window_display": true
  },
  "varInspector": {
   "cols": {
    "lenName": 16,
    "lenType": 16,
    "lenVar": 40
   },
   "kernels_config": {
    "python": {
     "delete_cmd_postfix": "",
     "delete_cmd_prefix": "del ",
     "library": "var_list.py",
     "varRefreshCmd": "print(var_dic_list())"
    },
    "r": {
     "delete_cmd_postfix": ") ",
     "delete_cmd_prefix": "rm(",
     "library": "var_list.r",
     "varRefreshCmd": "cat(var_dic_list()) "
    }
   },
   "types_to_exclude": [
    "module",
    "function",
    "builtin_function_or_method",
    "instance",
    "_Feature"
   ],
   "window_display": false
  }
 },
 "nbformat": 4,
 "nbformat_minor": 1
}
