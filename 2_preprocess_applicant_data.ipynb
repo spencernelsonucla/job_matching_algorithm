{
 "cells": [
  {
   "cell_type": "markdown",
   "metadata": {
    "colab_type": "text",
    "id": "view-in-github"
   },
   "source": [
    "<a href=\"https://colab.research.google.com/github/ArmandDS/jobs_recommendations/blob/master/job_analysis_content_recommendation.ipynb\" target=\"_parent\"><img src=\"https://colab.research.google.com/assets/colab-badge.svg\" alt=\"Open In Colab\"/></a>"
   ]
  },
  {
   "cell_type": "code",
   "execution_count": 23,
   "metadata": {
    "ExecuteTime": {
     "end_time": "2019-11-03T21:31:54.515312Z",
     "start_time": "2019-11-03T21:31:54.510594Z"
    }
   },
   "outputs": [],
   "source": [
    "import pandas as pd\n",
    "import datetime\n",
    "import os\n",
    "import sys\n",
    "nb_dir = os.path.split(os.getcwd())[0]\n",
    "if nb_dir not in sys.path:\n",
    "    sys.path.append(nb_dir)\n",
    "import clean_text"
   ]
  },
  {
   "cell_type": "markdown",
   "metadata": {
    "colab_type": "text",
    "id": "JyC91KDx0SqW"
   },
   "source": [
    "## Load the data"
   ]
  },
  {
   "cell_type": "code",
   "execution_count": 24,
   "metadata": {
    "ExecuteTime": {
     "end_time": "2019-11-03T21:42:20.849267Z",
     "start_time": "2019-11-03T21:42:20.833558Z"
    }
   },
   "outputs": [],
   "source": [
    "class preprocess_data():\n",
    "    \n",
    "    def __init__(self, root_path, text_column_to_clean):\n",
    "        self.root_path = root_path\n",
    "        self.text_column_to_clean = text_column_to_clean\n",
    "        \n",
    "    \n",
    "    def load_data(self):\n",
    "        df = pd.read_csv(f\"{self.root_path}/data/scrape_all_columns.csv\")\n",
    "        df = df.fillna('')\n",
    "        return df\n",
    "    \n",
    "    \n",
    "    def add_features(self, df):\n",
    "        # calculate years of experience ?\n",
    "        # make the assumption that Years of experience is related to graduation date;\n",
    "        # else, concatenate all the date info together and take the lowest date/parse into sep columns by - character\n",
    "        df['graduation_year'] = df['school_dateRange1'].str.split('–', n=1, expand=True)[1]\n",
    "\n",
    "        for index, row in df.iterrows():\n",
    "            if row['graduation_year'] != '':\n",
    "                years_subtraction = datetime.datetime.now().year - int(row['graduation_year'])\n",
    "                if years_subtraction >= 0:\n",
    "                    df['years_of_experience'] = years_subtraction\n",
    "                else:\n",
    "                    df['years_of_experience'] = 0\n",
    "        return df\n",
    "    \n",
    "    \n",
    "    def select_columns(self, df, columns_to_keep: list):\n",
    "        df_selected_columns = df[[c for c in df.columns if c in columns_to_keep]]\n",
    "        return df_selected_columns\n",
    "\n",
    "     \n",
    "    def combine_text(self, df):\n",
    "        df[self.text_column_to_clean] = df['job_jobTitle1'] + ' ' + df['job_location1'] + ' ' + df['job_description1'] + ' ' + df['job_jobTitle2'] + ' ' + df['job_description2'] + ' ' + df['allSkills'] + ' ' + df['school_degree1'] + ' ' + df['school_degreeSpec1']\n",
    "        return df\n",
    "    \n",
    "    \n",
    "    def clean_data(self, df):\n",
    "        print('cleaning data')\n",
    "        df[self.text_column_to_clean] = df[self.text_column_to_clean].apply(clean_text.clean_txt)\n",
    "        return df\n",
    "\n",
    "    def save_df_to_csv(self, df):\n",
    "        df.to_csv(f'{self.root_path}/data/df_applicants.csv', index=False)"
   ]
  },
  {
   "cell_type": "code",
   "execution_count": 14,
   "metadata": {
    "ExecuteTime": {
     "end_time": "2019-11-03T21:29:11.825729Z",
     "start_time": "2019-11-03T21:29:11.822159Z"
    }
   },
   "outputs": [],
   "source": [
    "root_path = \"/Users/snelson/Dropbox/Pearl/job_matching_algorithm/jobs_recommendations-master\"\n",
    "columns_to_keep = ['fullName', 'job_companyName1', 'job_jobTitle1', 'job_location1', 'job_description1', \n",
    "                   'job_jobTitle2', 'job_description2', 'allSkills', 'years_of_experience', 'school_degree1', \n",
    "                   'school_degreeSpec1', 'graduation_year']"
   ]
  },
  {
   "cell_type": "code",
   "execution_count": 25,
   "metadata": {
    "ExecuteTime": {
     "end_time": "2019-11-03T21:42:24.206157Z",
     "start_time": "2019-11-03T21:42:24.141363Z"
    }
   },
   "outputs": [
    {
     "name": "stdout",
     "output_type": "stream",
     "text": [
      "cleaning data\n"
     ]
    }
   ],
   "source": [
    "applicants = preprocess_data(root_path=root_path,\n",
    "                            text_column_to_clean='description_combined_cleaned')\n",
    "applicants_df = applicants.load_data()\n",
    "applicants_df = applicants.add_features(df=applicants_df)\n",
    "applicants_df = applicants.select_columns(df=applicants_df,\n",
    "                                         columns_to_keep=columns_to_keep)\n",
    "applicants_df = applicants.combine_text(df=applicants_df)\n",
    "applicants_df = applicants.clean_data(df=applicants_df)\n",
    "applicants.save_df_to_csv(df=applicants_df)"
   ]
  },
  {
   "cell_type": "code",
   "execution_count": null,
   "metadata": {},
   "outputs": [],
   "source": []
  }
 ],
 "metadata": {
  "accelerator": "GPU",
  "colab": {
   "collapsed_sections": [],
   "include_colab_link": true,
   "name": "job-analysis-content-recommendation.ipynb",
   "provenance": [],
   "version": "0.3.2"
  },
  "kernelspec": {
   "display_name": "Python 3",
   "language": "python",
   "name": "python3"
  },
  "language_info": {
   "codemirror_mode": {
    "name": "ipython",
    "version": 3
   },
   "file_extension": ".py",
   "mimetype": "text/x-python",
   "name": "python",
   "nbconvert_exporter": "python",
   "pygments_lexer": "ipython3",
   "version": "3.6.9"
  },
  "toc": {
   "base_numbering": 1,
   "nav_menu": {},
   "number_sections": true,
   "sideBar": true,
   "skip_h1_title": false,
   "title_cell": "Table of Contents",
   "title_sidebar": "Contents",
   "toc_cell": false,
   "toc_position": {
    "height": "calc(100% - 180px)",
    "left": "10px",
    "top": "150px",
    "width": "326px"
   },
   "toc_section_display": true,
   "toc_window_display": true
  },
  "varInspector": {
   "cols": {
    "lenName": 16,
    "lenType": 16,
    "lenVar": 40
   },
   "kernels_config": {
    "python": {
     "delete_cmd_postfix": "",
     "delete_cmd_prefix": "del ",
     "library": "var_list.py",
     "varRefreshCmd": "print(var_dic_list())"
    },
    "r": {
     "delete_cmd_postfix": ") ",
     "delete_cmd_prefix": "rm(",
     "library": "var_list.r",
     "varRefreshCmd": "cat(var_dic_list()) "
    }
   },
   "types_to_exclude": [
    "module",
    "function",
    "builtin_function_or_method",
    "instance",
    "_Feature"
   ],
   "window_display": false
  }
 },
 "nbformat": 4,
 "nbformat_minor": 1
}
