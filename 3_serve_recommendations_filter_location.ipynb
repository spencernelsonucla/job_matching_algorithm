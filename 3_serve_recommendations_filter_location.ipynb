{
 "cells": [
  {
   "cell_type": "markdown",
   "metadata": {
    "colab_type": "text",
    "id": "view-in-github"
   },
   "source": [
    "<a href=\"https://colab.research.google.com/github/ArmandDS/jobs_recommendations/blob/master/job_analysis_content_recommendation.ipynb\" target=\"_parent\"><img src=\"https://colab.research.google.com/assets/colab-badge.svg\" alt=\"Open In Colab\"/></a>"
   ]
  },
  {
   "cell_type": "code",
   "execution_count": 2,
   "metadata": {
    "ExecuteTime": {
     "end_time": "2019-11-03T22:34:04.500560Z",
     "start_time": "2019-11-03T22:34:04.493559Z"
    },
    "colab": {},
    "colab_type": "code",
    "id": "uSHYJlLei9e-",
    "scrolled": true
   },
   "outputs": [],
   "source": [
    "import pandas as pd\n",
    "import numpy as np\n",
    "import nltk\n",
    "from sklearn.metrics.pairwise import cosine_similarity\n",
    "from sklearn.feature_extraction.text import TfidfVectorizer\n",
    "pd.set_option('display.max_rows', 1000)\n",
    "pd.set_option('display.max_columns', 1000)\n",
    "pd.set_option('display.width', -1)\n",
    "import warnings\n",
    "warnings.filterwarnings('ignore')\n",
    "import os\n",
    "import datetime\n",
    "import pickle"
   ]
  },
  {
   "cell_type": "markdown",
   "metadata": {},
   "source": [
    "# load data"
   ]
  },
  {
   "cell_type": "code",
   "execution_count": 15,
   "metadata": {
    "ExecuteTime": {
     "end_time": "2019-11-03T22:37:33.604061Z",
     "start_time": "2019-11-03T22:37:31.711259Z"
    }
   },
   "outputs": [],
   "source": [
    "root_path = \"/Users/snelson/Dropbox/Pearl/job_matching_algorithm/jobs_recommendations-master\"\n",
    "\n",
    "applicant_df = pd.read_csv(f'{root_path}/data/df_applicants.csv')\n",
    "jobs_df = pd.read_csv(f'{root_path}/data/df_jobs.csv')\n",
    "tfidf_vectorizer = TfidfVectorizer()"
   ]
  },
  {
   "cell_type": "markdown",
   "metadata": {
    "colab_type": "text",
    "id": "gTuiU3-rldbv"
   },
   "source": [
    "#### Computing cosine similarity using tfidf"
   ]
  },
  {
   "cell_type": "code",
   "execution_count": 21,
   "metadata": {
    "ExecuteTime": {
     "end_time": "2019-11-03T22:39:39.825601Z",
     "start_time": "2019-11-03T22:39:39.810665Z"
    }
   },
   "outputs": [],
   "source": [
    "class get_recommendations():\n",
    "    def __init__(self, applicant_name, number_of_results, city_list):\n",
    "        self.applicant_name = applicant_name\n",
    "        self.number_of_results = number_of_results\n",
    "        self.city_list = city_list\n",
    "        \n",
    "    \n",
    "    def filter_jobs_df_by_location(self, jobs_df, filter_on: bool):\n",
    "        if filter_on:\n",
    "            jobs_df = jobs_df[jobs_df['City'].isin(self.city_list)]\n",
    "            jobs_df = jobs_df.reset_index(drop=True)\n",
    "        else: \n",
    "            return jobs_df\n",
    "        return jobs_df \n",
    "    \n",
    "    \n",
    "    def create_vector(self, jobs_data):\n",
    "        # initializing tfidf vectorizer\n",
    "        # TF-IDF ( Term Frequency - Inverse Document Frequency ) \n",
    "        tfidf_jobid = tfidf_vectorizer.fit_transform((jobs_data['text'])) #fitting and transforming the vector\n",
    "        return tfidf_jobid\n",
    "\n",
    "    \n",
    "    def get_applicant_row(self, applicant_data):\n",
    "        index = np.where(applicant_data['fullName'] == self.applicant_name)[0][0]\n",
    "        user_q = applicant_data.iloc[[index]]\n",
    "        return user_q\n",
    "\n",
    "    \n",
    "    def compute_cosine_similarity(self, user_q, tfidf_jobid):\n",
    "        user_tfidf = tfidf_vectorizer.transform(user_q['description_combined_cleaned'])\n",
    "        cos_similarity_tfidf = map(lambda x: cosine_similarity(user_tfidf, x),tfidf_jobid)\n",
    "        cosine_simlilarity_output = list(cos_similarity_tfidf)\n",
    "        return cosine_simlilarity_output\n",
    "    \n",
    "    \n",
    "    def get_top_results(self, cosine_simlilarity_output):\n",
    "        top_results = sorted(range(len(cosine_simlilarity_output)), key=lambda i: cosine_simlilarity_output[i], reverse=True)[:self.number_of_results]\n",
    "        return top_results\n",
    "    \n",
    "    \n",
    "    def get_scores(self, cosine_simlilarity_output, top_results):\n",
    "        scores = [cosine_simlilarity_output[i][0][0] for i in top_results]\n",
    "        return scores\n",
    "    \n",
    "    \n",
    "    def get_recommendation(self, top_results, jobs_data, scores):\n",
    "        recommendation = pd.DataFrame(columns = ['ApplicantID', 'JobID',  'title', 'score', 'City', 'Empl_type', 'Position'])\n",
    "        count = 0\n",
    "        for i in top_results:\n",
    "            recommendation.at[count, 'ApplicantID'] = self.applicant_name\n",
    "            recommendation.at[count, 'JobID'] = jobs_data['Job.ID'][i]\n",
    "            recommendation.at[count, 'title'] = jobs_data['Title'][i]\n",
    "            recommendation.at[count, 'City'] = jobs_data['City'][i]\n",
    "            recommendation.at[count, 'Empl_type'] = jobs_data['Empl_type'][i]\n",
    "            recommendation.at[count, 'Position'] = jobs_data['Position'][i]\n",
    "            recommendation.at[count, 'score'] =  scores[count]\n",
    "            count += 1\n",
    "        return recommendation "
   ]
  },
  {
   "cell_type": "code",
   "execution_count": 27,
   "metadata": {
    "ExecuteTime": {
     "end_time": "2019-11-03T22:41:46.075397Z",
     "start_time": "2019-11-03T22:41:46.072536Z"
    }
   },
   "outputs": [],
   "source": [
    "applicant_name = 'Tomoki Fukazawa'\n",
    "number_of_results = 2000\n",
    "#city_list = ['Los Angeles', 'San Francisco', 'Santa Monica']\n",
    "city_list = None\n",
    "city_filter = False"
   ]
  },
  {
   "cell_type": "code",
   "execution_count": 28,
   "metadata": {
    "ExecuteTime": {
     "end_time": "2019-11-03T22:42:55.859244Z",
     "start_time": "2019-11-03T22:41:48.079745Z"
    }
   },
   "outputs": [],
   "source": [
    "recommendations_init = get_recommendations(applicant_name=applicant_name,\n",
    "                                          number_of_results=number_of_results, \n",
    "                                          city_list = city_list)\n",
    "\n",
    "jobs_df_filtered_location = recommendations_init.filter_jobs_df_by_location(jobs_df=jobs_df,\n",
    "                                                                          filter_on=city_filter)\n",
    "tfidf_jobid = recommendations_init.create_vector(jobs_data=jobs_df_filtered_location)\n",
    "user_q = recommendations_init.get_applicant_row(applicant_data=applicant_df)\n",
    "cosine_simlilarity_output = recommendations_init.compute_cosine_similarity(user_q=user_q, \n",
    "                                                                           tfidf_jobid=tfidf_jobid)\n",
    "top_results = recommendations_init.get_top_results(cosine_simlilarity_output=cosine_simlilarity_output)\n",
    "scores = recommendations_init.get_scores(cosine_simlilarity_output=cosine_simlilarity_output, \n",
    "                                         top_results=top_results)\n",
    "\n",
    "recommendation_df = recommendations_init.get_recommendation(top_results=top_results, \n",
    "                                                         jobs_data=jobs_df_filtered_location, \n",
    "                                                         scores=scores)"
   ]
  },
  {
   "cell_type": "code",
   "execution_count": 29,
   "metadata": {
    "ExecuteTime": {
     "end_time": "2019-11-03T22:43:54.554007Z",
     "start_time": "2019-11-03T22:43:54.536746Z"
    }
   },
   "outputs": [
    {
     "data": {
      "text/html": [
       "<div>\n",
       "<style scoped>\n",
       "    .dataframe tbody tr th:only-of-type {\n",
       "        vertical-align: middle;\n",
       "    }\n",
       "\n",
       "    .dataframe tbody tr th {\n",
       "        vertical-align: top;\n",
       "    }\n",
       "\n",
       "    .dataframe thead th {\n",
       "        text-align: right;\n",
       "    }\n",
       "</style>\n",
       "<table border=\"1\" class=\"dataframe\">\n",
       "  <thead>\n",
       "    <tr style=\"text-align: right;\">\n",
       "      <th></th>\n",
       "      <th>ApplicantID</th>\n",
       "      <th>JobID</th>\n",
       "      <th>title</th>\n",
       "      <th>score</th>\n",
       "      <th>City</th>\n",
       "      <th>Empl_type</th>\n",
       "      <th>Position</th>\n",
       "    </tr>\n",
       "  </thead>\n",
       "  <tbody>\n",
       "    <tr>\n",
       "      <th>0</th>\n",
       "      <td>Tomoki Fukazawa</td>\n",
       "      <td>293694</td>\n",
       "      <td>Visual Designer @ The BOSS Group</td>\n",
       "      <td>0.247034</td>\n",
       "      <td>Alexandria</td>\n",
       "      <td>Seasonal/Temp</td>\n",
       "      <td>Visual Designer</td>\n",
       "    </tr>\n",
       "    <tr>\n",
       "      <th>1</th>\n",
       "      <td>Tomoki Fukazawa</td>\n",
       "      <td>293717</td>\n",
       "      <td>Web Designer/Developer @ The BOSS Group</td>\n",
       "      <td>0.233172</td>\n",
       "      <td>Baltimore</td>\n",
       "      <td>Seasonal/Temp</td>\n",
       "      <td>Web Designer/Developer</td>\n",
       "    </tr>\n",
       "    <tr>\n",
       "      <th>2</th>\n",
       "      <td>Tomoki Fukazawa</td>\n",
       "      <td>270306</td>\n",
       "      <td>Graphic Design/Web &amp; Media Design Instructors ...</td>\n",
       "      <td>0.215749</td>\n",
       "      <td>Monroe</td>\n",
       "      <td>Part-Time</td>\n",
       "      <td>Graphic Design/Web &amp; Media Design Instructors ...</td>\n",
       "    </tr>\n",
       "    <tr>\n",
       "      <th>3</th>\n",
       "      <td>Tomoki Fukazawa</td>\n",
       "      <td>267494</td>\n",
       "      <td>Web Developer @ ConsultNet</td>\n",
       "      <td>0.208096</td>\n",
       "      <td>Commerce</td>\n",
       "      <td>Full-Time/Part-Time</td>\n",
       "      <td>Web Developer</td>\n",
       "    </tr>\n",
       "    <tr>\n",
       "      <th>4</th>\n",
       "      <td>Tomoki Fukazawa</td>\n",
       "      <td>276397</td>\n",
       "      <td>Webmaster I (Contractor Temp) @ Education Mana...</td>\n",
       "      <td>0.202554</td>\n",
       "      <td>Pittsburgh</td>\n",
       "      <td>Full-Time/Part-Time</td>\n",
       "      <td>Webmaster I (Contractor Temp)</td>\n",
       "    </tr>\n",
       "    <tr>\n",
       "      <th>...</th>\n",
       "      <td>...</td>\n",
       "      <td>...</td>\n",
       "      <td>...</td>\n",
       "      <td>...</td>\n",
       "      <td>...</td>\n",
       "      <td>...</td>\n",
       "      <td>...</td>\n",
       "    </tr>\n",
       "    <tr>\n",
       "      <th>1995</th>\n",
       "      <td>Tomoki Fukazawa</td>\n",
       "      <td>262026</td>\n",
       "      <td>Retail Field Representative @ MarketSource</td>\n",
       "      <td>0.059678</td>\n",
       "      <td>Seattle</td>\n",
       "      <td>Part-Time</td>\n",
       "      <td>Retail Field Representative</td>\n",
       "    </tr>\n",
       "    <tr>\n",
       "      <th>1996</th>\n",
       "      <td>Tomoki Fukazawa</td>\n",
       "      <td>290434</td>\n",
       "      <td>Contemporary Designers Full Time: Bloomingdale...</td>\n",
       "      <td>0.0596745</td>\n",
       "      <td>Los Angeles</td>\n",
       "      <td>Seasonal/Temp</td>\n",
       "      <td>Contemporary Designers Full Time: Bloomingdale...</td>\n",
       "    </tr>\n",
       "    <tr>\n",
       "      <th>1997</th>\n",
       "      <td>Tomoki Fukazawa</td>\n",
       "      <td>262036</td>\n",
       "      <td>Retail Field Representative @ MarketSource</td>\n",
       "      <td>0.0596648</td>\n",
       "      <td>Everett</td>\n",
       "      <td>Part-Time</td>\n",
       "      <td>Retail Field Representative</td>\n",
       "    </tr>\n",
       "    <tr>\n",
       "      <th>1998</th>\n",
       "      <td>Tomoki Fukazawa</td>\n",
       "      <td>304440</td>\n",
       "      <td>Retail Field Representative @ MarketSource</td>\n",
       "      <td>0.059662</td>\n",
       "      <td>Bakersfield</td>\n",
       "      <td>Part-Time</td>\n",
       "      <td>Retail Field Representative</td>\n",
       "    </tr>\n",
       "    <tr>\n",
       "      <th>1999</th>\n",
       "      <td>Tomoki Fukazawa</td>\n",
       "      <td>184804</td>\n",
       "      <td>Retail Visual Merchandiser Lead -Irving, TX - ...</td>\n",
       "      <td>0.059654</td>\n",
       "      <td>Irving</td>\n",
       "      <td>Full-Time/Part-Time</td>\n",
       "      <td>Retail Visual Merchandiser Lead -Irving, TX - ...</td>\n",
       "    </tr>\n",
       "  </tbody>\n",
       "</table>\n",
       "<p>2000 rows × 7 columns</p>\n",
       "</div>"
      ],
      "text/plain": [
       "          ApplicantID  \\\n",
       "0     Tomoki Fukazawa   \n",
       "1     Tomoki Fukazawa   \n",
       "2     Tomoki Fukazawa   \n",
       "3     Tomoki Fukazawa   \n",
       "4     Tomoki Fukazawa   \n",
       "...               ...   \n",
       "1995  Tomoki Fukazawa   \n",
       "1996  Tomoki Fukazawa   \n",
       "1997  Tomoki Fukazawa   \n",
       "1998  Tomoki Fukazawa   \n",
       "1999  Tomoki Fukazawa   \n",
       "\n",
       "       JobID  \\\n",
       "0     293694   \n",
       "1     293717   \n",
       "2     270306   \n",
       "3     267494   \n",
       "4     276397   \n",
       "...      ...   \n",
       "1995  262026   \n",
       "1996  290434   \n",
       "1997  262036   \n",
       "1998  304440   \n",
       "1999  184804   \n",
       "\n",
       "                                                  title  \\\n",
       "0                      Visual Designer @ The BOSS Group   \n",
       "1               Web Designer/Developer @ The BOSS Group   \n",
       "2     Graphic Design/Web & Media Design Instructors ...   \n",
       "3                            Web Developer @ ConsultNet   \n",
       "4     Webmaster I (Contractor Temp) @ Education Mana...   \n",
       "...                                                 ...   \n",
       "1995         Retail Field Representative @ MarketSource   \n",
       "1996  Contemporary Designers Full Time: Bloomingdale...   \n",
       "1997         Retail Field Representative @ MarketSource   \n",
       "1998         Retail Field Representative @ MarketSource   \n",
       "1999  Retail Visual Merchandiser Lead -Irving, TX - ...   \n",
       "\n",
       "          score  \\\n",
       "0      0.247034   \n",
       "1      0.233172   \n",
       "2      0.215749   \n",
       "3      0.208096   \n",
       "4      0.202554   \n",
       "...         ...   \n",
       "1995   0.059678   \n",
       "1996  0.0596745   \n",
       "1997  0.0596648   \n",
       "1998   0.059662   \n",
       "1999   0.059654   \n",
       "\n",
       "             City  \\\n",
       "0      Alexandria   \n",
       "1       Baltimore   \n",
       "2          Monroe   \n",
       "3        Commerce   \n",
       "4      Pittsburgh   \n",
       "...           ...   \n",
       "1995      Seattle   \n",
       "1996  Los Angeles   \n",
       "1997      Everett   \n",
       "1998  Bakersfield   \n",
       "1999       Irving   \n",
       "\n",
       "                Empl_type  \\\n",
       "0           Seasonal/Temp   \n",
       "1           Seasonal/Temp   \n",
       "2               Part-Time   \n",
       "3     Full-Time/Part-Time   \n",
       "4     Full-Time/Part-Time   \n",
       "...                   ...   \n",
       "1995            Part-Time   \n",
       "1996        Seasonal/Temp   \n",
       "1997            Part-Time   \n",
       "1998            Part-Time   \n",
       "1999  Full-Time/Part-Time   \n",
       "\n",
       "                                               Position  \n",
       "0                                       Visual Designer  \n",
       "1                                Web Designer/Developer  \n",
       "2     Graphic Design/Web & Media Design Instructors ...  \n",
       "3                                         Web Developer  \n",
       "4                         Webmaster I (Contractor Temp)  \n",
       "...                                                 ...  \n",
       "1995                        Retail Field Representative  \n",
       "1996  Contemporary Designers Full Time: Bloomingdale...  \n",
       "1997                        Retail Field Representative  \n",
       "1998                        Retail Field Representative  \n",
       "1999  Retail Visual Merchandiser Lead -Irving, TX - ...  \n",
       "\n",
       "[2000 rows x 7 columns]"
      ]
     },
     "execution_count": 29,
     "metadata": {},
     "output_type": "execute_result"
    }
   ],
   "source": [
    "recommendation_df"
   ]
  },
  {
   "cell_type": "code",
   "execution_count": 30,
   "metadata": {
    "ExecuteTime": {
     "end_time": "2019-11-03T22:44:20.009075Z",
     "start_time": "2019-11-03T22:44:19.981907Z"
    }
   },
   "outputs": [],
   "source": [
    "recommendation_df.to_csv(f'{root_path}/data/recommendation_df.csv')"
   ]
  },
  {
   "cell_type": "code",
   "execution_count": 35,
   "metadata": {
    "ExecuteTime": {
     "end_time": "2019-11-03T22:07:17.889104Z",
     "start_time": "2019-11-03T22:07:17.886717Z"
    }
   },
   "outputs": [],
   "source": [
    "# further development\n",
    "\n",
    "## ways to speed this up:\n",
    "# - Filter jobs_df by the job location first and then create the cosine similarity\n",
    "\n",
    "## make it better by:\n",
    "# - scoring job title and description separately and then weigh scores"
   ]
  }
 ],
 "metadata": {
  "accelerator": "GPU",
  "colab": {
   "collapsed_sections": [],
   "include_colab_link": true,
   "name": "job-analysis-content-recommendation.ipynb",
   "provenance": [],
   "version": "0.3.2"
  },
  "kernelspec": {
   "display_name": "Python 3",
   "language": "python",
   "name": "python3"
  },
  "language_info": {
   "codemirror_mode": {
    "name": "ipython",
    "version": 3
   },
   "file_extension": ".py",
   "mimetype": "text/x-python",
   "name": "python",
   "nbconvert_exporter": "python",
   "pygments_lexer": "ipython3",
   "version": "3.6.9"
  },
  "toc": {
   "base_numbering": 1,
   "nav_menu": {},
   "number_sections": true,
   "sideBar": true,
   "skip_h1_title": false,
   "title_cell": "Table of Contents",
   "title_sidebar": "Contents",
   "toc_cell": false,
   "toc_position": {
    "height": "calc(100% - 180px)",
    "left": "10px",
    "top": "150px",
    "width": "326px"
   },
   "toc_section_display": true,
   "toc_window_display": true
  },
  "varInspector": {
   "cols": {
    "lenName": 16,
    "lenType": 16,
    "lenVar": 40
   },
   "kernels_config": {
    "python": {
     "delete_cmd_postfix": "",
     "delete_cmd_prefix": "del ",
     "library": "var_list.py",
     "varRefreshCmd": "print(var_dic_list())"
    },
    "r": {
     "delete_cmd_postfix": ") ",
     "delete_cmd_prefix": "rm(",
     "library": "var_list.r",
     "varRefreshCmd": "cat(var_dic_list()) "
    }
   },
   "types_to_exclude": [
    "module",
    "function",
    "builtin_function_or_method",
    "instance",
    "_Feature"
   ],
   "window_display": false
  }
 },
 "nbformat": 4,
 "nbformat_minor": 1
}
